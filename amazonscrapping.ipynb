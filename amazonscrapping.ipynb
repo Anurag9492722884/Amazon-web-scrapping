{
 "cells": [
  {
   "cell_type": "code",
   "execution_count": 1,
   "metadata": {},
   "outputs": [
    {
     "name": "stdout",
     "output_type": "stream",
     "text": [
      "Requirement already satisfied: pyforest in /opt/homebrew/lib/python3.11/site-packages (1.1.0)\n",
      "\n",
      "\u001b[1m[\u001b[0m\u001b[34;49mnotice\u001b[0m\u001b[1;39;49m]\u001b[0m\u001b[39;49m A new release of pip is available: \u001b[0m\u001b[31;49m23.2.1\u001b[0m\u001b[39;49m -> \u001b[0m\u001b[32;49m24.0\u001b[0m\n",
      "\u001b[1m[\u001b[0m\u001b[34;49mnotice\u001b[0m\u001b[1;39;49m]\u001b[0m\u001b[39;49m To update, run: \u001b[0m\u001b[32;49mpython3.11 -m pip install --upgrade pip\u001b[0m\n",
      "Note: you may need to restart the kernel to use updated packages.\n"
     ]
    }
   ],
   "source": [
    "pip install pyforest"
   ]
  },
  {
   "cell_type": "code",
   "execution_count": 2,
   "metadata": {},
   "outputs": [
    {
     "data": {
      "text/plain": [
       "['import fbprophet',\n",
       " 'from sklearn.preprocessing import RobustScaler',\n",
       " 'from sklearn.manifold import TSNE',\n",
       " 'import cv2',\n",
       " 'from xlrd import open_workbook',\n",
       " 'import xgboost as xgb',\n",
       " 'from scipy import stats',\n",
       " 'import tensorflow as tf',\n",
       " 'import gensim',\n",
       " 'from sklearn.linear_model import LinearRegression',\n",
       " 'import spacy',\n",
       " 'import pandas as pd',\n",
       " 'from sklearn.linear_model import LogisticRegression',\n",
       " 'from fbprophet import Prophet',\n",
       " 'import sklearn',\n",
       " 'from sklearn.linear_model import Lasso',\n",
       " 'from sklearn.preprocessing import LabelEncoder',\n",
       " 'from sklearn import svm',\n",
       " 'import torch',\n",
       " 'from sklearn.preprocessing import MinMaxScaler',\n",
       " 'import tqdm',\n",
       " 'import pydot',\n",
       " 'import seaborn as sns',\n",
       " 'import textblob',\n",
       " 'from sklearn.ensemble import RandomForestRegressor',\n",
       " 'import bokeh',\n",
       " 'from dask import dataframe as dd',\n",
       " 'from sklearn.preprocessing import OneHotEncoder',\n",
       " 'import statistics',\n",
       " 'from sklearn.linear_model import Ridge',\n",
       " 'import keras',\n",
       " 'import matplotlib as mpl',\n",
       " 'from sklearn.preprocessing import StandardScaler',\n",
       " 'from PIL import Image',\n",
       " 'import matplotlib.pyplot as plt',\n",
       " 'import altair as alt',\n",
       " 'from sklearn.feature_extraction.text import CountVectorizer',\n",
       " 'from sklearn.linear_model import ElasticNetCV',\n",
       " 'import statsmodels.api as sm',\n",
       " 'import sys',\n",
       " 'from sklearn.model_selection import StratifiedKFold',\n",
       " 'import numpy as np',\n",
       " 'import pickle',\n",
       " 'from sklearn.decomposition import PCA',\n",
       " 'from sklearn.model_selection import train_test_split',\n",
       " 'import skimage',\n",
       " 'from sklearn.linear_model import LassoCV',\n",
       " 'from sklearn.feature_extraction.text import TfidfVectorizer',\n",
       " 'from pathlib import Path',\n",
       " 'import re',\n",
       " 'from sklearn.impute import SimpleImputer',\n",
       " 'from scipy import signal as sg',\n",
       " 'from sklearn.ensemble import RandomForestClassifier',\n",
       " 'from sklearn.linear_model import RidgeCV',\n",
       " 'from sklearn.model_selection import RandomizedSearchCV',\n",
       " 'import lightgbm as lgb',\n",
       " 'import plotly.express as px',\n",
       " 'import datetime as dt',\n",
       " 'import os',\n",
       " 'from sklearn.cluster import KMeans',\n",
       " 'import fastai',\n",
       " 'import nltk',\n",
       " 'from sklearn.ensemble import GradientBoostingClassifier',\n",
       " 'from sklearn import metrics',\n",
       " 'import glob',\n",
       " 'import plotly as py',\n",
       " 'from sklearn.model_selection import KFold',\n",
       " 'from openpyxl import load_workbook',\n",
       " 'import awswrangler as wr',\n",
       " 'from sklearn.ensemble import GradientBoostingRegressor',\n",
       " 'import plotly.graph_objs as go',\n",
       " 'from sklearn.model_selection import GridSearchCV',\n",
       " 'from sklearn.model_selection import cross_val_score',\n",
       " 'import dash',\n",
       " 'from statsmodels.tsa.arima_model import ARIMA',\n",
       " 'from pyspark import SparkContext',\n",
       " 'import imutils',\n",
       " 'from sklearn.preprocessing import PolynomialFeatures',\n",
       " 'from sklearn.linear_model import ElasticNet']"
      ]
     },
     "execution_count": 2,
     "metadata": {},
     "output_type": "execute_result"
    }
   ],
   "source": [
    "from pyforest import *\n",
    "lazy_imports()"
   ]
  },
  {
   "cell_type": "code",
   "execution_count": null,
   "metadata": {},
   "outputs": [],
   "source": []
  }
 ],
 "metadata": {
  "kernelspec": {
   "display_name": "Python 3.11.4 64-bit",
   "language": "python",
   "name": "python3"
  },
  "language_info": {
   "codemirror_mode": {
    "name": "ipython",
    "version": 3
   },
   "file_extension": ".py",
   "mimetype": "text/x-python",
   "name": "python",
   "nbconvert_exporter": "python",
   "pygments_lexer": "ipython3",
   "version": "3.11.4"
  },
  "orig_nbformat": 4,
  "vscode": {
   "interpreter": {
    "hash": "b0fa6594d8f4cbf19f97940f81e996739fb7646882a419484c72d19e05852a7e"
   }
  }
 },
 "nbformat": 4,
 "nbformat_minor": 2
}
